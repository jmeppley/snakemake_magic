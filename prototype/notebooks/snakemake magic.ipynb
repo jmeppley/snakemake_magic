{
 "cells": [
  {
   "cell_type": "markdown",
   "metadata": {},
   "source": [
    "# Snakemake Magic\n",
    "## Interactive workflows in iPython\n",
    "\n",
    "This is a quick demo of what developing a snakemake workflow in a juptyer notebook might be like. Advanced users may or may not find this useful, but I think it could be really helpful for beginners."
   ]
  },
  {
   "cell_type": "markdown",
   "metadata": {},
   "source": [
    "### Initial Implementation\n",
    "\n",
    "I've implemented a few basic \"magic\" commands to get started:\n",
    "\n",
    " * %%sconfig: to load configuration\n",
    " * %%sinclude: to load rules\n",
    " * %snakemake: to execute\n",
    " "
   ]
  },
  {
   "cell_type": "markdown",
   "metadata": {},
   "source": [
    "#### Defining the magic\n",
    "\n",
    "For the demo, I'll define the magic in the notebook. This would most likely be loaded through a plugin or python module in the future."
   ]
  },
  {
   "cell_type": "code",
   "execution_count": 89,
   "metadata": {
    "collapsed": true
   },
   "outputs": [],
   "source": [
    "\"\"\"\n",
    "Defines magic functions to run snakemake from within ipython:\n",
    "\n",
    "The current approach is to create a snakemake.workflow object the first time a cell\n",
    "magic is called. The contents of the cell are put into a temporary file and loaded\n",
    "into the workflow by using worfklow.include() or workflow.config.update().\n",
    "\n",
    "\"\"\"\n",
    "from __future__ import print_function\n",
    "import os\n",
    "import re\n",
    "import tempfile\n",
    "import shlex\n",
    "from IPython.core.magic import (Magics, magics_class, line_magic,\n",
    "                                cell_magic)\n",
    "\n",
    "from snakemake.workflow import Workflow\n",
    "import snakemake.workflow\n",
    "from snakemake.io import load_configfile, _load_configfile\n",
    "from snakemake.parser import parse\n",
    "from snakemake import get_argument_parser, parse_resources, logger\n",
    "\n",
    "rule_rexp = re.compile(r'^\\s*@workflow.rule\\s*\\(name=\\s*\\'([^\\']+)\\'')\n",
    "def get_rule_names(snakefile_name):\n",
    "    \"\"\" Run snakemake.parser.parse and use regexp to get the rule names\n",
    "        This is incredibly inefficient, but a little more stable than trying to\n",
    "        parse rules myself.\n",
    "    \"\"\"\n",
    "    for line in parse(snakefile_name)[0].split(\"\\n\"):\n",
    "        m = rule_rexp.match(line)\n",
    "        if m:\n",
    "            yield m.group(1)\n",
    "\n",
    "# To register magic, class MUST call this class decorator at creation time\n",
    "@magics_class\n",
    "class SnakemakeMagic(Magics):\n",
    "    \"\"\"\n",
    "    Defines two cell and one line magic:\n",
    "\n",
    "     * %%config: load a block of yaml or json into the config object\n",
    "     * %%include: load a block of snakefile code into the workflow\n",
    "     * %smake: attempt to create a target file\n",
    "    \"\"\"\n",
    "    workflow = None\n",
    "    tempfiles = {\"cells\":[]}\n",
    "    updated_rules = []\n",
    "\n",
    "    # TODO: add magic to reset workflow with more options\n",
    "    #  EG: cluster script, threads, ...\n",
    "\n",
    "    def get_workflow(self):\n",
    "        \"\"\" make sure there is a workflow object\n",
    "\n",
    "        TODO:\n",
    "            * allow multiple workflows?\n",
    "            * what king of options to allow?\n",
    "            * allow options every time or just first?\n",
    "        \"\"\"\n",
    "        if self.workflow is None:\n",
    "            # create a new workflow object with some basic defaults\n",
    "\n",
    "            # create a blank file just so snakemake has something to hang on to\n",
    "            # (this file cannot be read from on some Windows systems...)\n",
    "            self.tempfiles['root'] = tempfile.NamedTemporaryFile('w')\n",
    "            self.workflow = Workflow(snakefile=self.tempfiles['root'].name)\n",
    "\n",
    "        return self.workflow\n",
    "    \n",
    "    @line_magic\n",
    "    def snakemake(self, line):\n",
    "        \"\"\" execute the workflow with the given arguments and targets\n",
    "        \n",
    "        This uses the snakeamke command line argument parser for now.\n",
    "        \"\"\"\n",
    "        if self.workflow is None:\n",
    "            raise Exception(\"Workflow has no data!\")\n",
    "\n",
    "        parser = get_argument_parser()\n",
    "        args = parser.parse_args(list(shlex.split(line)))\n",
    "\n",
    "        logger.debug(repr(args))\n",
    "        \n",
    "        resources = parse_resources(args)\n",
    "\n",
    "        targets = args.target\n",
    "        dryrun = args.dryrun\n",
    "        printshellcmds = args.printshellcmds\n",
    "        printreason = args.reason\n",
    "        printrulegraph = args.rulegraph\n",
    "        printd3dag = args.d3dag\n",
    "        touch = args.touch\n",
    "        forceall = args.forceall\n",
    "        forcerun = set(args.forcerun if args.forcerun is not None else [] + self.updated_rules)\n",
    "        prioritytargets = args.prioritize\n",
    "        until = args.until\n",
    "        omit_from = args.omit_from\n",
    "        stats = args.stats\n",
    "        nocolor = args.nocolor\n",
    "        quiet = args.quiet\n",
    "        keepgoing = args.keep_going\n",
    "        standalone = True\n",
    "        ignore_ambiguity = args.allow_ambiguity\n",
    "        lock = not args.nolock\n",
    "        unlock = args.unlock\n",
    "        force_incomplete = args.rerun_incomplete\n",
    "        ignore_incomplete = args.ignore_incomplete\n",
    "        list_version_changes = args.list_version_changes\n",
    "        list_code_changes = args.list_code_changes\n",
    "        list_input_changes = args.list_input_changes\n",
    "        list_params_changes = args.list_params_changes\n",
    "        summary = args.summary\n",
    "        detailed_summary = args.detailed_summary\n",
    "        print_compilation = args.print_compilation\n",
    "        verbose = args.verbose\n",
    "        debug = args.debug\n",
    "        notemp = args.notemp\n",
    "        keep_remote_local = args.keep_remote\n",
    "        greediness = args.greediness\n",
    "        latency_wait = args.latency_wait\n",
    "        benchmark_repeats = args.benchmark_repeats\n",
    "        keep_target_files = args.keep_target_files\n",
    "\n",
    "        updated_files = list()\n",
    "\n",
    "        if greediness is None:\n",
    "            greediness = 0.5 if prioritytargets else 1.0\n",
    "        else:\n",
    "            if not (0 <= greediness <= 1.0):\n",
    "                logger.error(\"Error: greediness must be a float between 0 and 1.\")\n",
    "                return False\n",
    "\n",
    "        # TODO: set target, check workflow, execute workflow\n",
    "        workflow = self.get_workflow()\n",
    "        # TODO: keep track of updated rules to set force run\n",
    "\n",
    "        # HACK: execute() is leaving directory locked, so I'm disabling locks\n",
    "        lock = False\n",
    "        \n",
    "        workflow.check()\n",
    "\n",
    "        success = workflow.execute(\n",
    "            targets=targets,\n",
    "            dryrun=dryrun,\n",
    "            touch=touch,\n",
    "            forceall=forceall,\n",
    "            forcerun=forcerun,\n",
    "            until=until,\n",
    "            omit_from=omit_from,\n",
    "            quiet=quiet,\n",
    "            keepgoing=keepgoing,\n",
    "            printshellcmds=printshellcmds,\n",
    "            printreason=printreason,\n",
    "            printrulegraph=printrulegraph,\n",
    "            printd3dag=printd3dag,\n",
    "            ignore_ambiguity=ignore_ambiguity,\n",
    "            stats=stats,\n",
    "            force_incomplete=force_incomplete,\n",
    "            ignore_incomplete=ignore_incomplete,\n",
    "            list_version_changes=list_version_changes,\n",
    "            list_code_changes=list_code_changes,\n",
    "            list_input_changes=list_input_changes,\n",
    "            list_params_changes=list_params_changes,\n",
    "            summary=summary,\n",
    "            latency_wait=latency_wait,\n",
    "            benchmark_repeats=benchmark_repeats,\n",
    "            wait_for_files=None,\n",
    "            detailed_summary=detailed_summary,\n",
    "            nolock=not lock,\n",
    "            unlock=unlock,\n",
    "            notemp=notemp,\n",
    "            keep_remote_local=keep_remote_local,\n",
    "            keep_target_files=keep_target_files,\n",
    "            updated_files=updated_files,\n",
    "            resources=resources,\n",
    "            )\n",
    "        \n",
    "        if success:\n",
    "            del self.updated_rules[:]\n",
    "        \n",
    "        return success\n",
    "\n",
    "    @cell_magic\n",
    "    def sinclude(self, line, cell):\n",
    "        \"include this cell in workflow\"\n",
    "\n",
    "        workflow = self.get_workflow()\n",
    "\n",
    "        # snakemake does not support blocks of text, so we create a temp\n",
    "        #  file.\n",
    "        cell_snakefile = tempfile.NamedTemporaryFile('w', delete=False)\n",
    "        self.tempfiles['cells'].append(cell_snakefile.name)\n",
    "        cell_snakefile.write(cell)\n",
    "        cell_snakefile.close()\n",
    "        \n",
    "        # first rule is first rule\n",
    "        overwrite_first_rule = len(workflow._rules) == 0\n",
    "\n",
    "        # HACK: remove rules to be replaced:\n",
    "        # remove conflicting rules\n",
    "        for rule_name in get_rule_names(cell_snakefile.name):\n",
    "            workflow._rules.pop(rule_name, None)\n",
    "            self.updated_rules.append(rule_name)\n",
    "\n",
    "        # include snippet\n",
    "        workflow.include(cell_snakefile.name,\n",
    "                         overwrite_first_rule=overwrite_first_rule,\n",
    "                        )\n",
    "        os.unlink(cell_snakefile.name)\n",
    "\n",
    "        return \"Workflow now has {} rules\".format(len(workflow._rules))\n",
    "\n",
    "    @cell_magic\n",
    "    def sconfig(self, line, cell):\n",
    "        \" Load JSON or YAML into workflow's config object \"\n",
    "        workflow = self.get_workflow()\n",
    "\n",
    "        # create a temp file, so we can use snakemake.load_configfile\n",
    "        #  it wouldn't be hard to roll our own to avoid this...\n",
    "        cell_config_file = tempfile.NamedTemporaryFile('w', delete=False)\n",
    "        cell_config_file.write(cell)\n",
    "        cell_config_file.close()\n",
    "        \n",
    "        snakemake.workflow.config.update(load_configfile(cell_config_file.name))\n",
    "        logger.debug(repr(snakemake.workflow.config))\n",
    "        os.unlink(cell_config_file.name)\n",
    "\n",
    "    @line_magic\n",
    "    def _workflow(self, line):\n",
    "        \"backdoor to inspect workflow object\"\n",
    "        # this wouldn't be in the final version\n",
    "        return self.get_workflow()\n",
    "    \n",
    "    @line_magic\n",
    "    def _reset_workflow(self, line):\n",
    "        self.workflow = None\n",
    "\n",
    "# In order to actually use these magics, you must register them with a\n",
    "# running IPython.  This code must be placed in a file that is loaded once\n",
    "# IPython is up and running:\n",
    "ip = get_ipython()\n",
    "# You can register the class itself without instantiating it.  IPython will\n",
    "# call the default constructor on it.\n",
    "ip.register_magics(SnakemakeMagic)"
   ]
  },
  {
   "cell_type": "markdown",
   "metadata": {},
   "source": [
    "#### Test drive"
   ]
  },
  {
   "cell_type": "code",
   "execution_count": 90,
   "metadata": {},
   "outputs": [
    {
     "name": "stdout",
     "output_type": "stream",
     "text": [
      "/Users/jmeppley/tmp/snake/workflow\n"
     ]
    }
   ],
   "source": [
    "work_dir = \"~/tmp/snake/workflow\"\n",
    "!mkdir -p $work_dir\n",
    "%cd $work_dir\n",
    "\n",
    "# clear files from earlier tests\n",
    "!rm -rf ./* .snakemake\n",
    "%_reset_workflow"
   ]
  },
  {
   "cell_type": "markdown",
   "metadata": {},
   "source": [
    "Let's create a workflow:"
   ]
  },
  {
   "cell_type": "code",
   "execution_count": 91,
   "metadata": {},
   "outputs": [
    {
     "data": {
      "text/plain": [
       "'Workflow now has 1 rules'"
      ]
     },
     "execution_count": 91,
     "metadata": {},
     "output_type": "execute_result"
    }
   ],
   "source": [
    "%%sinclude\n",
    "rule word_count:\n",
    "    input: \"{file_name}\"\n",
    "    output: \"{file_name}.wc\"\n",
    "    shell: \"wc {input} > {output}\""
   ]
  },
  {
   "cell_type": "markdown",
   "metadata": {},
   "source": [
    "And test it:"
   ]
  },
  {
   "cell_type": "code",
   "execution_count": 92,
   "metadata": {},
   "outputs": [
    {
     "name": "stderr",
     "output_type": "stream",
     "text": [
      "Provided cores: 1\n",
      "Rules claiming more threads will be scaled down.\n",
      "Job counts:\n",
      "\tcount\tjobs\n",
      "\t1\tword_count\n",
      "\t1\n"
     ]
    },
    {
     "data": {
      "text/plain": [
       "True"
      ]
     },
     "execution_count": 92,
     "metadata": {},
     "output_type": "execute_result"
    }
   ],
   "source": [
    "!echo \"test\" > test.txt\n",
    "%snakemake test.txt.wc"
   ]
  },
  {
   "cell_type": "code",
   "execution_count": 93,
   "metadata": {},
   "outputs": [
    {
     "name": "stdout",
     "output_type": "stream",
     "text": [
      "       1       1       5 test.txt\r\n"
     ]
    }
   ],
   "source": [
    "# check the results\n",
    "!cat test.txt.wc"
   ]
  },
  {
   "cell_type": "markdown",
   "metadata": {},
   "source": [
    "Now we add a rule that takes data from the configuration dict"
   ]
  },
  {
   "cell_type": "code",
   "execution_count": 94,
   "metadata": {},
   "outputs": [
    {
     "data": {
      "text/plain": [
       "'Workflow now has 2 rules'"
      ]
     },
     "execution_count": 94,
     "metadata": {},
     "output_type": "execute_result"
    }
   ],
   "source": [
    "%%sinclude\n",
    "rule text_file:\n",
    "    \"\"\" dumps the value of the named config var to a file \"\"\"\n",
    "    output: \"{name}.txt\"\n",
    "    params:\n",
    "        contents=lambda w: config[w.name]\n",
    "    shell: \"echo {params.contents} > {output}\""
   ]
  },
  {
   "cell_type": "markdown",
   "metadata": {},
   "source": [
    "...and put some data in the config"
   ]
  },
  {
   "cell_type": "code",
   "execution_count": 95,
   "metadata": {
    "collapsed": true
   },
   "outputs": [],
   "source": [
    "%%sconfig\n",
    "foo: bar\n",
    "one: two"
   ]
  },
  {
   "cell_type": "code",
   "execution_count": 97,
   "metadata": {},
   "outputs": [
    {
     "name": "stderr",
     "output_type": "stream",
     "text": [
      "Nothing to be done.\n"
     ]
    },
    {
     "name": "stdout",
     "output_type": "stream",
     "text": [
      "bar\r\n"
     ]
    }
   ],
   "source": [
    "%snakemake foo.txt\n",
    "!cat foo.txt"
   ]
  },
  {
   "cell_type": "markdown",
   "metadata": {},
   "source": [
    "What if we change our mind and want to put the key in there too:"
   ]
  },
  {
   "cell_type": "code",
   "execution_count": 101,
   "metadata": {},
   "outputs": [
    {
     "data": {
      "text/plain": [
       "'Workflow now has 2 rules'"
      ]
     },
     "execution_count": 101,
     "metadata": {},
     "output_type": "execute_result"
    }
   ],
   "source": [
    "%%sinclude\n",
    "rule text_file:\n",
    "    \"\"\" dumps the value of the named config var to a file \"\"\"\n",
    "    output: \"{name}.txt\"\n",
    "    params:\n",
    "        contents=lambda w: config[w.name]\n",
    "    shell: \"echo {wildcards.name}: {params.contents} > {output}\""
   ]
  },
  {
   "cell_type": "code",
   "execution_count": 102,
   "metadata": {},
   "outputs": [
    {
     "name": "stderr",
     "output_type": "stream",
     "text": [
      "Provided cores: 1\n",
      "Rules claiming more threads will be scaled down.\n",
      "Job counts:\n",
      "\tcount\tjobs\n",
      "\t1\ttext_file\n",
      "\t1\tword_count\n",
      "\t2\n"
     ]
    },
    {
     "name": "stdout",
     "output_type": "stream",
     "text": [
      "==> foo.txt <==\r\n",
      "foo: bar\r\n",
      "\r\n",
      "==> foo.txt.wc <==\r\n",
      "       1       2       9 foo.txt\r\n"
     ]
    }
   ],
   "source": [
    "%snakemake foo.txt.wc\n",
    "!head foo.*"
   ]
  },
  {
   "cell_type": "code",
   "execution_count": null,
   "metadata": {
    "collapsed": true
   },
   "outputs": [],
   "source": []
  }
 ],
 "metadata": {
  "kernelspec": {
   "display_name": "Python 3",
   "language": "python",
   "name": "python3"
  },
  "language_info": {
   "codemirror_mode": {
    "name": "ipython",
    "version": 3
   },
   "file_extension": ".py",
   "mimetype": "text/x-python",
   "name": "python",
   "nbconvert_exporter": "python",
   "pygments_lexer": "ipython3",
   "version": "3.5.3"
  }
 },
 "nbformat": 4,
 "nbformat_minor": 2
}
